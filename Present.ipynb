{
 "cells": [
  {
   "cell_type": "markdown",
   "metadata": {},
   "source": [
    "我選擇的是最小的資料規模，因為換到大一點的資料，我的記憶體就沒辦法load了。\n",
    "選擇這麼小的data，結果movie和user的個數是差不多的。"
   ]
  },
  {
   "cell_type": "markdown",
   "metadata": {},
   "source": [
    "# 程式碼"
   ]
  },
  {
   "cell_type": "markdown",
   "metadata": {},
   "source": [
    "只import方便做資料處理的lib，演算法是自幹的陽春版本。"
   ]
  },
  {
   "cell_type": "code",
   "execution_count": 46,
   "metadata": {
    "collapsed": false
   },
   "outputs": [
    {
     "name": "stdout",
     "output_type": "stream",
     "text": [
      "Populating the interactive namespace from numpy and matplotlib\n"
     ]
    },
    {
     "name": "stderr",
     "output_type": "stream",
     "text": [
      "WARNING: pylab import has clobbered these variables: ['diff', 'test']\n",
      "`%matplotlib` prevents importing * from pylab and numpy\n"
     ]
    }
   ],
   "source": [
    "%pylab inline\n",
    "import pandas as pd\n",
    "import numpy as np"
   ]
  },
  {
   "cell_type": "code",
   "execution_count": 47,
   "metadata": {
    "collapsed": false
   },
   "outputs": [],
   "source": [
    "# Load data\n",
    "train = pd.read_table('ml-100k/u2.base', header=None, names=['uid', 'mid', 'rating', 'timestamp'])\n",
    "test  = pd.read_table('ml-100k/u2.test', header=None, names=['uid', 'mid', 'rating', 'timestamp'])\n",
    "\n",
    "n_users  = int(train.describe().loc['max', 'uid'])\n",
    "n_movies = int(train.describe().loc['max', 'mid'])"
   ]
  },
  {
   "cell_type": "markdown",
   "metadata": {},
   "source": [
    " - $Y_{i, j}$放第$j$個使用者對第$i$部電影所做的評分\n",
    " - $R_{i, j}=1$代表第$j$個使用者對第$i$部電影有評分，$R_{i, j}=0$則無"
   ]
  },
  {
   "cell_type": "code",
   "execution_count": 48,
   "metadata": {
    "collapsed": true
   },
   "outputs": [],
   "source": [
    "# Transform\n",
    "Y = np.zeros( (n_movies, n_users) )\n",
    "R = Y.copy()\n",
    "for i in range(train.shape[0]):\n",
    "    Y[train.mid[i]-1][train.uid[i]-1] = train.rating[i]\n",
    "    R[train.mid[i]-1][train.uid[i]-1] = 1"
   ]
  },
  {
   "cell_type": "markdown",
   "metadata": {},
   "source": [
    "# Item-based Collaborative Filtering"
   ]
  },
  {
   "cell_type": "code",
   "execution_count": 50,
   "metadata": {
    "collapsed": false
   },
   "outputs": [],
   "source": [
    "# Allocate\n",
    "weights    = np.empty((n_movies,n_movies))\n",
    "diff       = np.empty((n_movies, n_users))\n",
    "std_rating = np.empty(n_movies)\n",
    "\n",
    "Y_mu = Y.sum(axis=1)/R.sum(axis=1)\n",
    "item_has_rated = (R.sum(axis=1)!=0)\n",
    "user_has_rated = (R.sum(axis=0)!=0)\n",
    "R_movie = np.array([1 if i in item_has_rated else 0 for i in range(n_movies)])\n",
    "for i in range(n_movies):\n",
    "    diff[i,:] = Y[i,:]-Y_mu[i]\n",
    "    std_rating[i] = np.power(diff[i,:],2).sum()/(R[i,:].sum())"
   ]
  },
  {
   "cell_type": "code",
   "execution_count": 51,
   "metadata": {
    "collapsed": true
   },
   "outputs": [],
   "source": [
    "# Weighting (Pearson correlation)\n",
    "R_weights = np.zeros((n_movies, n_movies))\n",
    "rate_avg = Y.sum()/float(R.sum())\n",
    "for i in range(n_movies):\n",
    "    for j in range(n_movies):\n",
    "        stdmstd = std_rating[i]*std_rating[j]\n",
    "        weights[i,j] = np.dot(R[i,:]*diff[i,:], R[j,:]*diff[j,:])/(stdmstd)\n",
    "        #weights[i,j] = np.dot(R[i,:]*(Y[i,:]-rate_avg), R[j,:]*(Y[j,:]-rate_avg))/(stdmstd) # (constrainted Pearson)\n",
    "        if stdmstd!=0:\n",
    "            R_weights[i,j] = 1"
   ]
  },
  {
   "cell_type": "markdown",
   "metadata": {},
   "source": [
    "試著調整neighborhood subset的大小來看結果的變化，觀察$K=\\{1,\\cdots,200\\}$"
   ]
  },
  {
   "cell_type": "code",
   "execution_count": 52,
   "metadata": {
    "collapsed": false
   },
   "outputs": [],
   "source": [
    "rec_item_based = np.empty((2,200))\n",
    "pred_correlation = np.empty(test.shape[0])\n",
    "pred_flag        = pred_correlation.copy()\n",
    "for iter in range(200):\n",
    "    K   = iter+1\n",
    "    tolerence = .5\n",
    "    count_not_available = 0\n",
    "    for test_id in range(test.shape[0]):\n",
    "        a = test.uid[test_id]\n",
    "        i = test.mid[test_id]\n",
    "\n",
    "        if not user_has_rated[a] or not item_has_rated[i]:\n",
    "            count_not_available = count_not_available + 1\n",
    "            pred_flag[test_id] = 0\n",
    "        else:\n",
    "            weights_i = weights[i,:]*R_weights[i,:]\n",
    "            sort_index = np.argsort(-weights_i)\n",
    "            idx_positive_weights    = np.array(sort_index[:K])\n",
    "            val_positive_weights    = weights_i[idx_positive_weights]\n",
    "            val_positive_difference = (diff[idx_positive_weights,a]) * (R[idx_positive_weights,a])\n",
    "            pred_correlation[test_id] = Y_mu[i] + np.dot(val_positive_difference,val_positive_weights)/(val_positive_weights.sum())\n",
    "\n",
    "            pred_flag[test_id] = 1\n",
    "    pred_has_pred = [i for i in range(test.shape[0]) if pred_flag[i]]\n",
    "    # Validation\n",
    "    error_item_based   = test.rating.iloc[pred_has_pred] - pred_correlation[np.ix_(pred_has_pred)]\n",
    "    correct = np.array(error_item_based.loc[abs(error_item_based)<tolerence])\n",
    "    rec_item_based[0, iter] = correct.shape[0]/float(test.shape[0])\n",
    "    correct = np.array(error_item_based.loc[abs(error_item_based)<1])\n",
    "    rec_item_based[1, iter] = correct.shape[0]/float(test.shape[0])"
   ]
  },
  {
   "cell_type": "code",
   "execution_count": 53,
   "metadata": {
    "collapsed": false,
    "scrolled": true
   },
   "outputs": [
    {
     "data": {
      "text/plain": [
       "<matplotlib.text.Text at 0x11496fad0>"
      ]
     },
     "execution_count": 53,
     "metadata": {},
     "output_type": "execute_result"
    },
    {
     "data": {
      "image/png": "[encoded data removed]",
      "text/plain": [
       "<matplotlib.figure.Figure at 0x1151ac090>"
      ]
     },
     "metadata": {},
     "output_type": "display_data"
    }
   ],
   "source": [
    "plot(rec_item_based[0,:])\n",
    "plot(rec_item_based[1,:])\n",
    "xlabel(\"K\")\n",
    "ylabel(\"error proportion\")\n"
   ]
  },
  {
   "cell_type": "markdown",
   "metadata": {},
   "source": [
    "上圖的紅線代表誤差在(-1,1)佔所有testing的比值, 藍線代表誤差在(-0.5,0.5)的比值, K在20,30之後幾乎沒有變化"
   ]
  },
  {
   "cell_type": "code",
   "execution_count": 54,
   "metadata": {
    "collapsed": false
   },
   "outputs": [],
   "source": [
    "# Predict\n",
    "pred_correlation = np.empty(test.shape[0])\n",
    "pred_flag        = pred_correlation.copy()\n",
    "K         = 50\n",
    "tolerence = .5\n",
    "count_not_available = 0\n",
    "for test_id in range(test.shape[0]):\n",
    "    a = test.uid[test_id]\n",
    "    i = test.mid[test_id]\n",
    "\n",
    "    if not user_has_rated[a] or not item_has_rated[i]:\n",
    "        count_not_available = count_not_available + 1\n",
    "        pred_flag[test_id] = 0\n",
    "    else:\n",
    "        weights_i = weights[i,:]*R_weights[i,:]\n",
    "        sort_index = np.argsort(-weights_i)\n",
    "        idx_positive_weights    = np.array(sort_index[:K])\n",
    "        val_positive_weights    = weights_i[idx_positive_weights]\n",
    "        val_positive_difference = (diff[idx_positive_weights,a]) * (R[idx_positive_weights,a])\n",
    "        pred_correlation[test_id] = Y_mu[i] + np.dot(val_positive_difference,val_positive_weights)/(val_positive_weights.sum())\n",
    "\n",
    "        pred_flag[test_id] = 1\n",
    "pred_has_pred = [i for i in range(test.shape[0]) if pred_flag[i]]"
   ]
  },
  {
   "cell_type": "code",
   "execution_count": 55,
   "metadata": {
    "collapsed": true
   },
   "outputs": [],
   "source": [
    "# Validation\n",
    "tolerence = .5\n",
    "error_item_based   = test.rating.iloc[pred_has_pred] - pred_correlation[np.ix_(pred_has_pred)]\n",
    "correct = np.array(error_item_based.loc[abs(error_item_based)<tolerence])\n",
    "correct_proportion = correct.shape[0]/float(test.shape[0])"
   ]
  },
  {
   "cell_type": "code",
   "execution_count": 56,
   "metadata": {
    "collapsed": false
   },
   "outputs": [
    {
     "name": "stdout",
     "output_type": "stream",
     "text": [
      "('Correct proportion:', 0.31265)\n",
      "('Converge:', 0.9981)\n",
      "('MAE:', 0.13755823704890777)\n"
     ]
    },
    {
     "data": {
      "image/png": "[encoded data removed]",
      "text/plain": [
       "<matplotlib.figure.Figure at 0x1144a0ad0>"
      ]
     },
     "metadata": {},
     "output_type": "display_data"
    }
   ],
   "source": [
    "# Visualization\n",
    "error_item_based.hist(bins=200)\n",
    "plt.xlabel(\"Prediction Error (Rating - Prediction)\")\n",
    "plt.ylabel(\"Frequency\")\n",
    "plt.title(\"Item-based CF\")\n",
    "print ('Correct proportion:', correct_proportion)\n",
    "print ('Converge:',  1 - (count_not_available/float(test.shape[0])))\n",
    "print ('MAE:', error_item_based.mean())"
   ]
  },
  {
   "cell_type": "markdown",
   "metadata": {},
   "source": [
    "# User-based Collaborative Filtering"
   ]
  },
  {
   "cell_type": "code",
   "execution_count": 57,
   "metadata": {
    "collapsed": true
   },
   "outputs": [],
   "source": [
    "# Load data\n",
    "train = pd.read_table('ml-100k/u2.base', header=None, names=['uid', 'mid', 'rating', 'timestamp'])\n",
    "test  = pd.read_table('ml-100k/u2.test', header=None, names=['uid', 'mid', 'rating', 'timestamp'])\n",
    "\n",
    "n_users  = int(train.describe().loc['max', 'uid'])\n",
    "n_movies = int(train.describe().loc['max', 'mid'])"
   ]
  },
  {
   "cell_type": "code",
   "execution_count": 58,
   "metadata": {
    "collapsed": true
   },
   "outputs": [],
   "source": [
    "# Transform\n",
    "Y = np.zeros( (n_movies, n_users) )\n",
    "R = Y.copy()\n",
    "for i in range(train.shape[0]):\n",
    "    Y[train.mid[i]-1][train.uid[i]-1] = train.rating[i]\n",
    "    R[train.mid[i]-1][train.uid[i]-1] = 1"
   ]
  },
  {
   "cell_type": "code",
   "execution_count": 59,
   "metadata": {
    "collapsed": false
   },
   "outputs": [],
   "source": [
    "# Allocate\n",
    "weights    = np.empty((n_users,n_users))\n",
    "diff       = np.empty((n_movies, n_users))\n",
    "std_rating = np.empty(n_users)\n",
    "\n",
    "Y_mu = Y.sum(axis=0)/R.sum(axis=0)\n",
    "item_has_rated = (R.sum(axis=1)!=0)\n",
    "user_has_rated = (R.sum(axis=0)!=0)\n",
    "R_users = np.array([1 if i in user_has_rated else 0 for i in range(n_users)])\n",
    "for i in range(n_users):\n",
    "    diff[:,i] = Y[:,i]-Y_mu[i]\n",
    "    std_rating[i] = np.power(diff[:,i],2).sum()/(R[:,i].sum())"
   ]
  },
  {
   "cell_type": "code",
   "execution_count": 60,
   "metadata": {
    "collapsed": true
   },
   "outputs": [],
   "source": [
    "# Weighting (Pearson correlation)\n",
    "R_weights = np.zeros((n_users, n_users))\n",
    "rate_avg = Y.sum()/float(R.sum())\n",
    "for i in range(n_users):\n",
    "    for j in range(n_users):\n",
    "        stdmstd = std_rating[i]*std_rating[j]\n",
    "        weights[i,j] = np.dot(R[:,i]*diff[:,i], R[:,j]*diff[:,j])/(stdmstd)\n",
    "        #weights[i,j] = np.dot(R[:,i]*(Y[:,i]-rate_avg), R[:,j]*(Y[:,j]-rate_avg))/(stdmstd) # (constrainted Pearson)\n",
    "        if stdmstd!=0:\n",
    "            R_weights[i,j] = 1"
   ]
  },
  {
   "cell_type": "code",
   "execution_count": 65,
   "metadata": {
    "collapsed": false
   },
   "outputs": [],
   "source": [
    "rec_user_based = np.empty((2,200))\n",
    "pred_correlation = np.empty(test.shape[0])\n",
    "pred_flag        = pred_correlation.copy()\n",
    "for iter in range(200):\n",
    "    K   = iter+1\n",
    "    tolerence = .5\n",
    "    count_not_available = 0\n",
    "    for test_id in range(test.shape[0]):\n",
    "        a = test.uid[test_id]\n",
    "        i = test.mid[test_id]\n",
    "        if not user_has_rated[a] or not item_has_rated[i]:\n",
    "            count_not_available = count_not_available + 1\n",
    "            pred_flag[test_id] = 0\n",
    "        else:\n",
    "            weights_i = weights[a,:]*R_weights[a,:]\n",
    "            sort_index = np.argsort(-weights_i)\n",
    "            idx_positive_weights    = np.array(sort_index[:K])\n",
    "            val_positive_weights    = weights_i[idx_positive_weights]\n",
    "            val_positive_difference = (diff[i,idx_positive_weights] * R[i,idx_positive_weights])\n",
    "            pred_correlation[test_id] = Y_mu[a] + np.dot(val_positive_difference,val_positive_weights)/(val_positive_weights.sum())\n",
    "            pred_flag[test_id] = 1\n",
    "    pred_has_pred = [i for i in range(test.shape[0]) if pred_flag[i]]   \n",
    "    # Validation\n",
    "    error_user_based   = test.rating.iloc[pred_has_pred] - pred_correlation[np.ix_(pred_has_pred)]\n",
    "    correct = np.array(error_user_based.loc[abs(error_user_based)<tolerence])\n",
    "    rec_user_based[0, iter] = correct.shape[0]/float(test.shape[0])\n",
    "    correct = np.array(error_user_based.loc[abs(error_user_based)<1])\n",
    "    rec_user_based[1, iter] = correct.shape[0]/float(test.shape[0])\n"
   ]
  },
  {
   "cell_type": "code",
   "execution_count": 66,
   "metadata": {
    "collapsed": false
   },
   "outputs": [
    {
     "data": {
      "text/plain": [
       "<matplotlib.text.Text at 0x114ae2fd0>"
      ]
     },
     "execution_count": 66,
     "metadata": {},
     "output_type": "execute_result"
    },
    {
     "data": {
      "image/png": "[encoded data removed]",
      "text/plain": [
       "<matplotlib.figure.Figure at 0x1157d7290>"
      ]
     },
     "metadata": {},
     "output_type": "display_data"
    }
   ],
   "source": [
    "plot(rec_user_based[0,:])\n",
    "plot(rec_user_based[1,:])\n",
    "xlabel(\"K\")\n",
    "ylabel(\"error proportion\")"
   ]
  },
  {
   "cell_type": "code",
   "execution_count": 67,
   "metadata": {
    "collapsed": false
   },
   "outputs": [
    {
     "name": "stdout",
     "output_type": "stream",
     "text": [
      "0.31755\n"
     ]
    },
    {
     "data": {
      "image/png": "[encoded data removed]",
      "text/plain": [
       "<matplotlib.figure.Figure at 0x1157af450>"
      ]
     },
     "metadata": {},
     "output_type": "display_data"
    }
   ],
   "source": [
    "# Predict\n",
    "pred_correlation = np.zeros(test.shape[0])\n",
    "pred_flag        = pred_correlation.copy()\n",
    "pred_cosine      = pred_correlation.copy()\n",
    "K         = 50\n",
    "tolerence = .5\n",
    "count_not_available = 0\n",
    "for test_id in range(test.shape[0]):\n",
    "    a = test.uid[test_id]\n",
    "    i = test.mid[test_id]\n",
    "    if not user_has_rated[a] or not item_has_rated[i]:\n",
    "        count_not_available = count_not_available + 1\n",
    "        pred_flag[test_id] = 0\n",
    "    else:\n",
    "        weights_i = weights[a,:]*R_weights[a,:]\n",
    "        sort_index = np.argsort(-weights_i)\n",
    "        idx_positive_weights    = np.array(sort_index[:K])\n",
    "        val_positive_weights    = weights_i[idx_positive_weights]\n",
    "        val_positive_difference = (diff[i,idx_positive_weights] * R[i,idx_positive_weights])\n",
    "        pred_correlation[test_id] = Y_mu[a] + np.dot(val_positive_difference,val_positive_weights)/(val_positive_weights.sum())\n",
    "        pred_flag[test_id] = 1\n",
    "pred_has_pred = [i for i in range(test.shape[0]) if pred_flag[i]] \n",
    "# Validation\n",
    "error_user_based   = test.rating.iloc[pred_has_pred] - pred_correlation[np.ix_(pred_has_pred)]\n",
    "correct = np.array(error_user_based.loc[abs(error_user_based)<tolerence])\n",
    "correct_proportion = correct.shape[0]/float(test.shape[0])"
   ]
  },
  {
   "cell_type": "code",
   "execution_count": 68,
   "metadata": {
    "collapsed": false
   },
   "outputs": [
    {
     "name": "stdout",
     "output_type": "stream",
     "text": [
      "0.31755\n",
      "('Converge:', 0.9981)\n",
      "('MAE:', 0.13755823704890777)\n"
     ]
    },
    {
     "data": {
      "image/png": "[encoded data removed]",
      "text/plain": [
       "<matplotlib.figure.Figure at 0x1149e6190>"
      ]
     },
     "metadata": {},
     "output_type": "display_data"
    }
   ],
   "source": [
    "error_user_based.hist(bins=200)\n",
    "plt.xlabel(\"Prediction Error\")\n",
    "plt.ylabel(\"Frequency\")\n",
    "plt.title(\"User-based CF\")\n",
    "print correct_proportion\n",
    "print ('Converge:',  1 - (count_not_available/float(test.shape[0])))\n",
    "print ('MAE:', error_item_based.mean())"
   ]
  }
 ],
 "metadata": {
  "kernelspec": {
   "display_name": "Python 2",
   "language": "python",
   "name": "python2"
  },
  "language_info": {
   "codemirror_mode": {
    "name": "ipython",
    "version": 2
   },
   "file_extension": ".py",
   "mimetype": "text/x-python",
   "name": "python",
   "nbconvert_exporter": "python",
   "pygments_lexer": "ipython2",
   "version": "2.7.11"
  }
 },
 "nbformat": 4,
 "nbformat_minor": 0
}
