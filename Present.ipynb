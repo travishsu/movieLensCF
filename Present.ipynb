{
 "cells": [
  {
   "cell_type": "markdown",
   "metadata": {},
   "source": [
    "只import方便做資料處理的lib，演算法是自幹的陽春版本。"
   ]
  },
  {
   "cell_type": "code",
   "execution_count": 235,
   "metadata": {
    "collapsed": true
   },
   "outputs": [],
   "source": [
    "import pandas as pd\n",
    "import numpy as np"
   ]
  },
  {
   "cell_type": "code",
   "execution_count": 236,
   "metadata": {
    "collapsed": false
   },
   "outputs": [],
   "source": [
    "# Load data\n",
    "train = pd.read_table('ml-100k/u2.base', header=None, names=['uid', 'mid', 'rating', 'timestamp'])\n",
    "test  = pd.read_table('ml-100k/u2.test', header=None, names=['uid', 'mid', 'rating', 'timestamp'])\n",
    "\n",
    "n_users  = int(train.describe().loc['max', 'uid'])\n",
    "n_movies = int(train.describe().loc['max', 'mid'])"
   ]
  },
  {
   "cell_type": "markdown",
   "metadata": {},
   "source": [
    " - $Y_{i, j}$放第$j$個使用者對第$i$部電影所做的評分\n",
    " - $R_{i, j}=1$代表第$j$個使用者對第$i$部電影有評分，$R_{i, j}=0$則無"
   ]
  },
  {
   "cell_type": "code",
   "execution_count": 237,
   "metadata": {
    "collapsed": true
   },
   "outputs": [],
   "source": [
    "# Transform\n",
    "Y = np.zeros( (n_movies, n_users) )\n",
    "R = Y.copy()\n",
    "for i in range(train.shape[0]):\n",
    "    Y[train.mid[i]-1][train.uid[i]-1] = train.rating[i]\n",
    "    R[train.mid[i]-1][train.uid[i]-1] = 1"
   ]
  },
  {
   "cell_type": "markdown",
   "metadata": {},
   "source": [
    "# Item-based Collaborative Filtering"
   ]
  },
  {
   "cell_type": "code",
   "execution_count": null,
   "metadata": {
    "collapsed": true
   },
   "outputs": [],
   "source": []
  },
  {
   "cell_type": "code",
   "execution_count": 238,
   "metadata": {
    "collapsed": false
   },
   "outputs": [],
   "source": [
    "# Allocate\n",
    "weights    = np.empty((n_movies,n_movies))\n",
    "diff       = np.empty((n_movies, n_users))\n",
    "std_rating = np.empty(n_movies)\n",
    "\n",
    "Y_mu = Y.sum(axis=1)/R.sum(axis=1)\n",
    "nanindex = [l for l in range(n_movies) if np.isnan(Y_mu[l])]\n",
    "for i in nanindex:\n",
    "    Y_mu[nanindex] = 0\n",
    "for i in range(n_movies):\n",
    "    diff[i,:] = Y[i,:]-Y_mu[i]\n",
    "    std_rating[i] = np.power(diff[i,:],2).sum()/(lambda _: R[i,:].sum() if R[i,:].sum()>0 else 1)(_)"
   ]
  },
  {
   "cell_type": "code",
   "execution_count": 239,
   "metadata": {
    "collapsed": true
   },
   "outputs": [],
   "source": [
    "# Weighting (Pearson correlation)\n",
    "for i in range(n_movies):\n",
    "    for j in range(n_movies):\n",
    "        if std_rating[i]*std_rating[j]!=0:\n",
    "            weights[i,j] = np.dot(R[i,:]*diff[i,:], R[j,:]*diff[j,:])/(std_rating[i]*std_rating[j])\n",
    "        else:\n",
    "            weights[i,j] = 0"
   ]
  },
  {
   "cell_type": "markdown",
   "metadata": {},
   "source": [
    "試著調整neighborhood subset的大小來看結果的變化，觀察$K=\\{1,\\cdots,200\\}$"
   ]
  },
  {
   "cell_type": "code",
   "execution_count": 240,
   "metadata": {
    "collapsed": false
   },
   "outputs": [],
   "source": [
    "rec = np.empty((2,200))\n",
    "pred_correlation = np.empty(test.shape[0])\n",
    "pred_flag        = pred_correlation.copy()\n",
    "for iter in range(200):\n",
    "    K   = iter+1\n",
    "    tolerence = .5\n",
    "    for test_id in range(test.shape[0]):\n",
    "        a = test.uid[test_id]\n",
    "        i = test.mid[test_id]\n",
    "\n",
    "        sort_index = np.argsort(-weights[i,:])\n",
    "        idx_positive_weights    = np.array(sort_index[:K])\n",
    "        val_positive_weights    = weights[i,idx_positive_weights]\n",
    "        val_positive_difference = (diff[np.ix_(idx_positive_weights,[a])].T)[0] * (R[np.ix_(idx_positive_weights,[a])].T)[0]\n",
    "        pred_correlation[test_id] = Y_mu[i] + np.dot(val_positive_difference,val_positive_weights)/(val_positive_weights.sum())\n",
    "\n",
    "        pred_flag[test_id] = 1\n",
    "    pred_has_pred = [i for i in range(test.shape[0]) if pred_flag[i]]\n",
    "    # Validation\n",
    "    error   = test.rating.iloc[pred_has_pred] - pred_correlation[np.ix_(pred_has_pred)]\n",
    "    correct = np.array([error[i] for i in range(test.shape[0]) if np.abs(error[i])<tolerence])\n",
    "    rec[0, iter] = correct.shape[0]/float(test.shape[0])\n",
    "    correct = np.array([error[i] for i in range(test.shape[0]) if np.abs(error[i])<1])\n",
    "    rec[1, iter] = correct.shape[0]/float(test.shape[0])"
   ]
  },
  {
   "cell_type": "code",
   "execution_count": 249,
   "metadata": {
    "collapsed": false
   },
   "outputs": [
    {
     "data": {
      "text/plain": [
       "<matplotlib.text.Text at 0x1054413d0>"
      ]
     },
     "execution_count": 249,
     "metadata": {},
     "output_type": "execute_result"
    },
    {
     "data": {
      "image/png": "[encoded data removed]",
      "text/plain": [
       "<matplotlib.figure.Figure at 0x10d60a650>"
      ]
     },
     "metadata": {},
     "output_type": "display_data"
    }
   ],
   "source": [
    "\n",
    "plot(rec[0,:])\n",
    "plot(rec[1,:])\n",
    "xlabel(\"K\")\n",
    "ylabel(\"error proportion\")\n"
   ]
  },
  {
   "cell_type": "code",
   "execution_count": 210,
   "metadata": {
    "collapsed": false
   },
   "outputs": [],
   "source": [
    "# Predict\n",
    "pred_correlation = np.empty(test.shape[0])\n",
    "pred_flag        = pred_correlation.copy()\n",
    "pred_cosine      = pred_correlation.copy()\n",
    "K         = 50\n",
    "tolerence = .5\n",
    "for test_id in range(test.shape[0]):\n",
    "    a = test.uid[test_id]\n",
    "    i = test.mid[test_id]\n",
    "\n",
    "    sort_index = np.argsort(-weights[i,:])\n",
    "    idx_positive_weights    = np.array(sort_index[:K])\n",
    "    val_positive_weights    = weights[np.ix_([i],idx_positive_weights)][0]\n",
    "    val_positive_difference = (diff[np.ix_(idx_positive_weights,[a])].T)[0] * (R[np.ix_(idx_positive_weights,[a])].T)[0]\n",
    "    pred_correlation[test_id] = Y_mu[i] + np.dot(val_positive_difference,val_positive_weights)/(val_positive_weights.sum())\n",
    "\n",
    "    pred_flag[test_id] = 1\n",
    "pred_has_pred = [i for i in range(test.shape[0]) if pred_flag[i]]"
   ]
  },
  {
   "cell_type": "code",
   "execution_count": 211,
   "metadata": {
    "collapsed": true
   },
   "outputs": [],
   "source": [
    "# Validation\n",
    "tolerence = .5\n",
    "error   = test.rating.iloc[pred_has_pred] - pred_correlation[np.ix_(pred_has_pred)]\n",
    "correct = np.array([error[i] for i in range(test.shape[0]) if np.abs(error[i])<tolerence])\n",
    "correct_proportion = correct.shape[0]/float(test.shape[0])"
   ]
  },
  {
   "cell_type": "code",
   "execution_count": 212,
   "metadata": {
    "collapsed": false
   },
   "outputs": [
    {
     "name": "stdout",
     "output_type": "stream",
     "text": [
      "0.31265\n"
     ]
    },
    {
     "data": {
      "image/png": "[encoded data removed]",
      "text/plain": [
       "<matplotlib.figure.Figure at 0x10db003d0>"
      ]
     },
     "metadata": {},
     "output_type": "display_data"
    }
   ],
   "source": [
    "# Visualization\n",
    "error.hist(bins=200)\n",
    "plt.xlabel(\"Prediction Error (Rating - Prediction)\")\n",
    "plt.ylabel(\"Frequency\")\n",
    "plt.title(\"Item-based CF\")\n",
    "print correct_proportion"
   ]
  },
  {
   "cell_type": "markdown",
   "metadata": {},
   "source": [
    "# User-based Collaborative Filtering"
   ]
  },
  {
   "cell_type": "code",
   "execution_count": 222,
   "metadata": {
    "collapsed": false
   },
   "outputs": [],
   "source": [
    "test  = pd.read_table('ml-100k/u2.test', header=None, names=['uid', 'mid', 'rating', 'timestamp'])\n",
    "\n",
    "Y_mu = Y.sum(axis=0)/R.sum(axis=0)\n",
    "nanindex = [l for l in range(n_users) if np.isnan(Y_mu[l])]\n",
    "for i in nanindex:\n",
    "    Y_mu[nanindex] = 0\n",
    "\n",
    "# Allocate\n",
    "weights    = np.empty((n_users,n_users))\n",
    "diff       = np.empty((n_movies, n_users))\n",
    "std_rating = np.empty(n_users)\n",
    "\n",
    "for i in range(n_users):\n",
    "    diff[:,i] = Y[:,i]-Y_mu[i]\n",
    "    std_rating[i] = np.power(diff[:,i],2).sum()/(lambda _: R[i,:].sum() if R[i,:].sum()>0 else 1)(_)\n",
    "\n",
    "# Weighting (Pearson correlation)\n",
    "for i in range(n_users):\n",
    "    for j in range(n_users):\n",
    "        weights[i,j] = np.dot(R[:,i]*diff[:,i], R[:,j]*diff[:,j])/(std_rating[i]*std_rating[j])"
   ]
  },
  {
   "cell_type": "code",
   "execution_count": 223,
   "metadata": {
    "collapsed": true
   },
   "outputs": [],
   "source": [
    "rec_userbase = np.empty(200)\n",
    "pred_correlation = np.empty(test.shape[0])\n",
    "pred_flag        = pred_correlation.copy()\n",
    "for iter in range(200):\n",
    "    K   = iter+1\n",
    "    tolerence = .5\n",
    "\n",
    "    movie_avg_rating = Y.sum(axis=1)/[(lambda x: x.sum() if x.sum()>0 else 1)(R[i,:]) for i in range(n_movies)]\n",
    "    for test_id in range(test.shape[0]):\n",
    "        a = test.uid[test_id]\n",
    "        i = test.mid[test_id]\n",
    "\n",
    "        if i < Y.shape[1]:\n",
    "            sort_index = np.argsort(-weights[:,a])\n",
    "            idx_positive_weights    = np.array(sort_index[:K])\n",
    "            val_positive_weights    = weights[idx_positive_weights,a]\n",
    "            val_positive_difference = (diff[i,idx_positive_weights] * R[i,idx_positive_weights])\n",
    "            pred_correlation[test_id] = Y_mu[i] + np.dot(val_positive_difference,val_positive_weights)/(val_positive_weights.sum())\n",
    "        else:\n",
    "            pred_correlation[test_id] = movie_avg_rating[i]\n",
    "    # Validation\n",
    "    error   = test.rating - pred_correlation\n",
    "    correct = np.array([error[i] for i in range(error.shape[0]) if np.abs(error[i])<tolerence])\n",
    "    rec_userbase[iter] = correct.shape[0]/float(test.shape[0])\n",
    "\n"
   ]
  },
  {
   "cell_type": "code",
   "execution_count": 224,
   "metadata": {
    "collapsed": false
   },
   "outputs": [
    {
     "data": {
      "text/plain": [
       "<matplotlib.text.Text at 0x10d840390>"
      ]
     },
     "execution_count": 224,
     "metadata": {},
     "output_type": "execute_result"
    },
    {
     "data": {
      "image/png": "[encoded data removed]",
      "text/plain": [
       "<matplotlib.figure.Figure at 0x10d7bd3d0>"
      ]
     },
     "metadata": {},
     "output_type": "display_data"
    }
   ],
   "source": [
    "plot(rec_userbase)\n",
    "xlabel(\"K\")\n",
    "ylabel(\"error proportion\")"
   ]
  },
  {
   "cell_type": "code",
   "execution_count": null,
   "metadata": {
    "collapsed": true
   },
   "outputs": [],
   "source": [
    "# Predict\n",
    "pred_correlation = np.zeros(test.shape[0])\n",
    "pred_flag        = pred_correlation.copy()\n",
    "pred_cosine      = pred_correlation.copy()\n",
    "K         = 50\n",
    "tolerence = .5\n",
    "\n",
    "movie_avg_rating = Y.sum(axis=1)/[(lambda x: x.sum() if x.sum()>0 else 1)(R[i,:]) for i in range(n_movies)]\n",
    "for test_id in range(test.shape[0]):\n",
    "    a = test.uid[test_id]\n",
    "    i = test.mid[test_id]\n",
    "\n",
    "    if i < Y.shape[1]:\n",
    "        sort_index = np.argsort(-weights[:,a])\n",
    "        idx_positive_weights    = np.array(sort_index[:K])\n",
    "        val_positive_weights    = weights[idx_positive_weights,a]\n",
    "        val_positive_difference = (diff[i,idx_positive_weights] * R[i,idx_positive_weights])\n",
    "        pred_correlation[test_id] = Y_mu[i] + np.dot(val_positive_difference,val_positive_weights)/(val_positive_weights.sum())\n",
    "    else:\n",
    "        pred_correlation[test_id] = movie_avg_rating[i]\n",
    "# Validation\n",
    "error   = test.rating - pred_correlation\n",
    "correct = np.array([error[i] for i in range(error.shape[0]) if np.abs(error[i])<tolerence])\n",
    "correct_proportion = correct.shape[0]/float(test.shape[0])\n",
    "\n",
    "error.hist(bins=200)\n",
    "plt.xlabel(\"Prediction Error\")\n",
    "plt.ylabel(\"Frequency\")\n",
    "plt.title(\"User-based CF\")\n",
    "print correct_proportion\n",
    "\n"
   ]
  },
  {
   "cell_type": "code",
   "execution_count": 183,
   "metadata": {
    "collapsed": false
   },
   "outputs": [],
   "source": [
    "test_id = argmax(pred_correlation)\n",
    "a = test.uid[test_id]\n",
    "i = test.mid[test_id]"
   ]
  },
  {
   "cell_type": "code",
   "execution_count": 184,
   "metadata": {
    "collapsed": false
   },
   "outputs": [
    {
     "data": {
      "text/plain": [
       "((1682, 943), 129, 2.2999999999999998)"
      ]
     },
     "execution_count": 184,
     "metadata": {},
     "output_type": "execute_result"
    }
   ],
   "source": [
    "Y.shape, i, movie_avg_rating[i]"
   ]
  },
  {
   "cell_type": "code",
   "execution_count": 201,
   "metadata": {
    "collapsed": false
   },
   "outputs": [
    {
     "data": {
      "text/plain": [
       "5.9940704628817798"
      ]
     },
     "execution_count": 201,
     "metadata": {},
     "output_type": "execute_result"
    }
   ],
   "source": [
    "max(pred_correlation)"
   ]
  },
  {
   "cell_type": "code",
   "execution_count": 186,
   "metadata": {
    "collapsed": true
   },
   "outputs": [],
   "source": [
    "sort_index = np.argsort(-weights[i,:])\n",
    "idx_positive_weights    = np.array(sort_index[:K])\n",
    "val_positive_weights    = (weights[np.ix_(idx_positive_weights,[a])].T)[0]"
   ]
  },
  {
   "cell_type": "code",
   "execution_count": 193,
   "metadata": {
    "collapsed": false
   },
   "outputs": [
    {
     "data": {
      "text/plain": [
       "array([404, 180, 221, 275,   0, 267, 293, 173,  55, 300,  81, 302,  12,\n",
       "       654,   6, 124, 681, 129, 108, 392, 327, 199, 312, 254,  94,  91,\n",
       "       346, 918, 215, 434,  20, 708, 194,  82, 879, 325,  41, 317, 290,\n",
       "       143, 689, 659, 714, 322, 755, 209, 229, 662, 647, 880])"
      ]
     },
     "execution_count": 193,
     "metadata": {},
     "output_type": "execute_result"
    }
   ],
   "source": [
    "idx_positive_weights"
   ]
  },
  {
   "cell_type": "code",
   "execution_count": 197,
   "metadata": {
    "collapsed": false
   },
   "outputs": [
    {
     "data": {
      "text/plain": [
       "array([  2.01860072e-03,   1.97532470e-03,   9.48681327e-04,\n",
       "         7.11068733e-04,   4.79161429e-04,   3.96360631e-04,\n",
       "         3.25699263e-04,   3.09522612e-04,   3.02027234e-04,\n",
       "         3.00265725e-04,   2.97148770e-04,   2.76916705e-04,\n",
       "         2.70465827e-04,   2.65284630e-04,   2.44399472e-04,\n",
       "         2.32613403e-04,   2.32239094e-04,   2.00630749e-04,\n",
       "         1.75717664e-04,   1.73279379e-04,   1.72836355e-04,\n",
       "         1.68824396e-04,   1.67701708e-04,   1.67581310e-04,\n",
       "         1.63231996e-04,   1.47572482e-04,   1.45299318e-04,\n",
       "         1.38405458e-04,   1.29026339e-04,   1.27087561e-04,\n",
       "         1.23168598e-04,   1.22288497e-04,   1.15626702e-04,\n",
       "         1.10199435e-04,   1.02994183e-04,   1.01194501e-04,\n",
       "         1.00934495e-04,   1.00258892e-04,   9.94430354e-05,\n",
       "         9.93992986e-05,   9.93157815e-05,   9.92807629e-05,\n",
       "         9.62111604e-05,   9.57912114e-05,   9.52488932e-05,\n",
       "         9.40133903e-05,   9.33950525e-05,   9.13987850e-05,\n",
       "         8.88947269e-05,   8.47555235e-05])"
      ]
     },
     "execution_count": 197,
     "metadata": {},
     "output_type": "execute_result"
    }
   ],
   "source": [
    "weights[i,idx_positive_weights]"
   ]
  },
  {
   "cell_type": "code",
   "execution_count": 219,
   "metadata": {
    "collapsed": false
   },
   "outputs": [
    {
     "data": {
      "text/plain": [
       "<matplotlib.text.Text at 0x10e411310>"
      ]
     },
     "execution_count": 219,
     "metadata": {},
     "output_type": "execute_result"
    },
    {
     "data": {
      "image/png": "[encoded data removed]",
      "text/plain": [
       "<matplotlib.figure.Figure at 0x10d7bd350>"
      ]
     },
     "metadata": {},
     "output_type": "display_data"
    }
   ],
   "source": [
    "plot(rec)\n",
    "xlabel(\"K\")\n",
    "ylabel(\"error proportion\")"
   ]
  },
  {
   "cell_type": "code",
   "execution_count": null,
   "metadata": {
    "collapsed": true
   },
   "outputs": [],
   "source": []
  }
 ],
 "metadata": {
  "kernelspec": {
   "display_name": "Python 2",
   "language": "python",
   "name": "python2"
  },
  "language_info": {
   "codemirror_mode": {
    "name": "ipython",
    "version": 2
   },
   "file_extension": ".py",
   "mimetype": "text/x-python",
   "name": "python",
   "nbconvert_exporter": "python",
   "pygments_lexer": "ipython2",
   "version": "2.7.11"
  }
 },
 "nbformat": 4,
 "nbformat_minor": 0
}
