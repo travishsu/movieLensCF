{
 "cells": [
  {
   "cell_type": "code",
   "execution_count": 90,
   "metadata": {
    "collapsed": false
   },
   "outputs": [
    {
     "name": "stdout",
     "output_type": "stream",
     "text": [
      "Populating the interactive namespace from numpy and matplotlib\n"
     ]
    },
    {
     "name": "stderr",
     "output_type": "stream",
     "text": [
      "WARNING: pylab import has clobbered these variables: ['diff', 'test']\n",
      "`%matplotlib` prevents importing * from pylab and numpy\n"
     ]
    }
   ],
   "source": [
    "%pylab inline\n",
    "import pandas as pd\n",
    "import numpy as np"
   ]
  },
  {
   "cell_type": "code",
   "execution_count": 91,
   "metadata": {
    "collapsed": true
   },
   "outputs": [],
   "source": [
    "# Load data\n",
    "train = pd.read_table('ml-100k/u2.base', header=None, names=['uid', 'mid', 'rating', 'timestamp'])\n",
    "test  = pd.read_table('ml-100k/u2.test', header=None, names=['uid', 'mid', 'rating', 'timestamp'])\n",
    "\n",
    "n_users  = int(train.describe().loc['max', 'uid'])\n",
    "n_movies = int(train.describe().loc['max', 'mid'])"
   ]
  },
  {
   "cell_type": "code",
   "execution_count": 92,
   "metadata": {
    "collapsed": true
   },
   "outputs": [],
   "source": [
    "# Transform\n",
    "Y = np.zeros( (n_movies, n_users) )\n",
    "R = Y.copy()\n",
    "for i in range(train.shape[0]):\n",
    "    Y[train.mid[i]-1][train.uid[i]-1] = train.rating[i]\n",
    "    R[train.mid[i]-1][train.uid[i]-1] = 1"
   ]
  },
  {
   "cell_type": "code",
   "execution_count": 93,
   "metadata": {
    "collapsed": true
   },
   "outputs": [],
   "source": [
    "# Allocate\n",
    "weights    = np.empty((n_movies,n_movies))\n",
    "diff       = np.empty((n_movies, n_users))\n",
    "std_rating = np.empty(n_movies)\n",
    "\n",
    "Y_mu = Y.sum(axis=1)/R.sum(axis=1)\n",
    "item_has_rated = (R.sum(axis=1)!=0)\n",
    "user_has_rated = (R.sum(axis=0)!=0)\n",
    "R_movie = np.array([1 if i in items_has_rated else 0 for i in range(n_movies)])\n",
    "for i in range(n_movies):\n",
    "    diff[i,:] = Y[i,:]-Y_mu[i]\n",
    "    std_rating[i] = np.power(diff[i,:],2).sum()/(R[i,:].sum())"
   ]
  },
  {
   "cell_type": "code",
   "execution_count": 94,
   "metadata": {
    "collapsed": false
   },
   "outputs": [
    {
     "data": {
      "text/plain": [
       "(943,)"
      ]
     },
     "execution_count": 94,
     "metadata": {},
     "output_type": "execute_result"
    }
   ],
   "source": [
    "user_has_rated.shape"
   ]
  },
  {
   "cell_type": "code",
   "execution_count": 95,
   "metadata": {
    "collapsed": true
   },
   "outputs": [],
   "source": [
    "# Weighting (Pearson correlation)\n",
    "R_weights = np.zeros((n_movies, n_movies))\n",
    "for i in range(n_movies):\n",
    "    for j in range(n_movies):\n",
    "        stdmstd = std_rating[i]*std_rating[j]\n",
    "        #weights[i,j] = np.dot(R[i,:]*diff[i,:], R[j,:]*diff[j,:])/(stdmstd)\n",
    "        weights[i,j] = np.dot(R[i,:]*(Y[i,:]-3), R[j,:]*(Y[j,:]-3))/(stdmstd)\n",
    "        if stdmstd!=0:\n",
    "            R_weights[i,j] = 1"
   ]
  },
  {
   "cell_type": "code",
   "execution_count": 96,
   "metadata": {
    "collapsed": false
   },
   "outputs": [],
   "source": [
    "# Predict\n",
    "pred_correlation = np.empty(test.shape[0])\n",
    "pred_flag        = pred_correlation.copy()\n",
    "pred_cosine      = pred_correlation.copy()\n",
    "K         = 50\n",
    "tolerence = .5\n",
    "count_not_available = 0\n",
    "for test_id in range(test.shape[0]):\n",
    "    a = test.uid[test_id]\n",
    "    i = test.mid[test_id]\n",
    "\n",
    "    if not user_has_rated[a] or not item_has_rated[i]:\n",
    "        count_not_available = count_not_available + 1\n",
    "        pred_flag[test_id] = 0\n",
    "    else:\n",
    "        weights_i = weights[i,:]*R_weights[i,:]\n",
    "        sort_index = np.argsort(-weights_i)\n",
    "        idx_positive_weights    = np.array(sort_index[:K])\n",
    "        val_positive_weights    = weights_i[idx_positive_weights]\n",
    "        val_positive_difference = (diff[idx_positive_weights,a]) * (R[idx_positive_weights,a])\n",
    "        pred_correlation[test_id] = Y_mu[i] + np.dot(val_positive_difference,val_positive_weights)/(val_positive_weights.sum())\n",
    "\n",
    "        pred_flag[test_id] = 1\n",
    "pred_has_pred = [i for i in range(test.shape[0]) if pred_flag[i]]"
   ]
  },
  {
   "cell_type": "code",
   "execution_count": 97,
   "metadata": {
    "collapsed": false
   },
   "outputs": [],
   "source": [
    "tolerence = .5\n",
    "error_item_based   = test.rating.iloc[pred_has_pred] - pred_correlation[np.ix_(pred_has_pred)]\n",
    "correct = np.array(error_item_based.loc[abs(error_item_based)<tolerence])\n",
    "correct_proportion = correct.shape[0]/float(test.shape[0])"
   ]
  },
  {
   "cell_type": "code",
   "execution_count": 98,
   "metadata": {
    "collapsed": false
   },
   "outputs": [
    {
     "name": "stdout",
     "output_type": "stream",
     "text": [
      "0.2822\n",
      "('Converge:', 0.9981)\n",
      "('MAE:', 0.31551504421328302)\n"
     ]
    },
    {
     "data": {
      "image/png": "[encoded data removed]",
      "text/plain": [
       "<matplotlib.figure.Figure at 0x11c550190>"
      ]
     },
     "metadata": {},
     "output_type": "display_data"
    }
   ],
   "source": [
    "# Visualization\n",
    "error_item_based.hist(bins=200)\n",
    "plt.xlabel(\"Prediction Error (Rating - Prediction)\")\n",
    "plt.ylabel(\"Frequency\")\n",
    "plt.title(\"Item-based CF\")\n",
    "print correct_proportion\n",
    "print ('Converge:',  1 - (count_not_available/float(test.shape[0])))\n",
    "print ('MAE:', error_item_based.mean())"
   ]
  },
  {
   "cell_type": "code",
   "execution_count": null,
   "metadata": {
    "collapsed": true
   },
   "outputs": [],
   "source": []
  }
 ],
 "metadata": {
  "kernelspec": {
   "display_name": "Python 2",
   "language": "python",
   "name": "python2"
  },
  "language_info": {
   "codemirror_mode": {
    "name": "ipython",
    "version": 2
   },
   "file_extension": ".py",
   "mimetype": "text/x-python",
   "name": "python",
   "nbconvert_exporter": "python",
   "pygments_lexer": "ipython2",
   "version": "2.7.11"
  }
 },
 "nbformat": 4,
 "nbformat_minor": 0
}
