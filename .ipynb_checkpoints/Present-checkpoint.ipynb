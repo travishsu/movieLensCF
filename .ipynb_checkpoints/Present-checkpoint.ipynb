{
 "cells": [
  {
   "cell_type": "markdown",
   "metadata": {},
   "source": [
    "## Dataset: MovieLens 100k\n",
    "我選擇的是最小的資料規模，因為換到大一點的資料，我的記憶體就沒辦法load了。\n",
    "選擇這麼小的data，結果movie和user的個數是差不多的。\n",
    "\n",
    "不知道是不是因為這個原因，兩個演算法的效能在這裡比較不出什麼。"
   ]
  },
  {
   "cell_type": "markdown",
   "metadata": {},
   "source": [
    "|               | $\\|err\\| <0.5$ | Converge | MAE      |   |\n",
    "|---------------|----------------|----------|----------|---|\n",
    "| Item-Based CF | 0.3121         | 0.9981   | 0.125065 |   |\n",
    "| User-Based CF | 0.3176         | 0.9981   | 0.125065 |   |"
   ]
  },
  {
   "cell_type": "markdown",
   "metadata": {},
   "source": [
    "## 程式碼"
   ]
  },
  {
   "cell_type": "markdown",
   "metadata": {},
   "source": [
    "import方便做資料處理的lib。"
   ]
  },
  {
   "cell_type": "code",
   "execution_count": 144,
   "metadata": {
    "collapsed": false
   },
   "outputs": [
    {
     "name": "stdout",
     "output_type": "stream",
     "text": [
      "Populating the interactive namespace from numpy and matplotlib\n"
     ]
    },
    {
     "name": "stderr",
     "output_type": "stream",
     "text": [
      "WARNING: pylab import has clobbered these variables: ['diff', 'test']\n",
      "`%matplotlib` prevents importing * from pylab and numpy\n"
     ]
    }
   ],
   "source": [
    "%pylab inline\n",
    "import pandas as pd\n",
    "import numpy as np"
   ]
  },
  {
   "cell_type": "code",
   "execution_count": 145,
   "metadata": {
    "collapsed": false
   },
   "outputs": [],
   "source": [
    "# Load data\n",
    "train = pd.read_table('ml-100k/u3.base', header=None, names=['uid', 'mid', 'rating', 'timestamp'])\n",
    "test  = pd.read_table('ml-100k/u3.test', header=None, names=['uid', 'mid', 'rating', 'timestamp'])\n",
    "\n",
    "n_users  = int(train.describe().loc['max', 'uid'])\n",
    "n_movies = int(train.describe().loc['max', 'mid'])"
   ]
  },
  {
   "cell_type": "markdown",
   "metadata": {},
   "source": [
    " - $Y_{i, j}$放第$j$個使用者對第$i$部電影所做的評分\n",
    " - $R_{i, j}=1$代表第$j$個使用者對第$i$部電影有評分，$R_{i, j}=0$則無"
   ]
  },
  {
   "cell_type": "code",
   "execution_count": 146,
   "metadata": {
    "collapsed": true
   },
   "outputs": [],
   "source": [
    "# Transform\n",
    "Y = np.zeros( (n_movies, n_users) )\n",
    "R = Y.copy()\n",
    "for i in range(train.shape[0]):\n",
    "    Y[train.mid[i]-1][train.uid[i]-1] = train.rating[i]\n",
    "    R[train.mid[i]-1][train.uid[i]-1] = 1"
   ]
  },
  {
   "cell_type": "markdown",
   "metadata": {},
   "source": [
    "## Item-based Collaborative Filtering"
   ]
  },
  {
   "cell_type": "code",
   "execution_count": 147,
   "metadata": {
    "collapsed": false
   },
   "outputs": [],
   "source": [
    "# Allocate\n",
    "weights    = np.empty((n_movies,n_movies))\n",
    "diff       = np.empty((n_movies, n_users))\n",
    "std_rating = np.empty(n_movies)\n",
    "\n",
    "Y_mu = Y.sum(axis=1)/R.sum(axis=1)\n",
    "item_has_rated = (R.sum(axis=1)!=0)\n",
    "user_has_rated = (R.sum(axis=0)!=0)\n",
    "R_movie = np.array([1 if i in item_has_rated else 0 for i in range(n_movies)])\n",
    "for i in range(n_movies):\n",
    "    diff[i,:] = Y[i,:]-Y_mu[i]\n",
    "    std_rating[i] = np.power(diff[i,:],2).sum()/(R[i,:].sum())"
   ]
  },
  {
   "cell_type": "code",
   "execution_count": 148,
   "metadata": {
    "collapsed": true
   },
   "outputs": [],
   "source": [
    "# Weighting (Pearson correlation)\n",
    "R_weights = np.zeros((n_movies, n_movies))\n",
    "rate_avg = Y.sum()/float(R.sum())\n",
    "for i in range(n_movies):\n",
    "    for j in range(n_movies):\n",
    "        stdmstd = std_rating[i]*std_rating[j]\n",
    "        weights[i,j] = np.dot(R[i,:]*diff[i,:], R[j,:]*diff[j,:])/(stdmstd)\n",
    "        #weights[i,j] = np.dot(R[i,:]*(Y[i,:]-rate_avg), R[j,:]*(Y[j,:]-rate_avg))/(stdmstd) # (constrainted Pearson)\n",
    "        if stdmstd!=0 and item_has_rated[i] and item_has_rated[j]:\n",
    "            R_weights[i,j] = 1"
   ]
  },
  {
   "cell_type": "code",
   "execution_count": 149,
   "metadata": {
    "collapsed": false
   },
   "outputs": [],
   "source": [
    "# Predict\n",
    "pred_correlation = np.empty(test.shape[0])\n",
    "pred_flag        = pred_correlation.copy()\n",
    "K         = 50\n",
    "tolerence = .5\n",
    "count_not_available = 0\n",
    "for test_id in range(test.shape[0]):\n",
    "    a = test.uid[test_id]\n",
    "    i = test.mid[test_id]\n",
    "\n",
    "    if not user_has_rated[a] or not item_has_rated[i]:\n",
    "        count_not_available = count_not_available + 1\n",
    "        pred_flag[test_id] = 0\n",
    "    else:\n",
    "        weights_i = weights[i,:]*R_weights[i,:]\n",
    "        sort_index = np.argsort(-weights_i)\n",
    "        idx_positive_weights    = np.array(sort_index[1:K+1])\n",
    "        val_positive_weights    = weights_i[idx_positive_weights]\n",
    "        val_positive_difference = (diff[idx_positive_weights,a]) * (R[idx_positive_weights,a])\n",
    "        pred = Y_mu[i] + np.dot(val_positive_difference,val_positive_weights)/(val_positive_weights.sum())\n",
    "        if np.isnan(pred):\n",
    "            count_not_available = count_not_available + 1\n",
    "            pred_flag[test_id] = 0\n",
    "        else:\n",
    "            pred_correlation[test_id] = pred\n",
    "            pred_flag[test_id] = 1\n",
    "pred_has_pred = [i for i in range(test.shape[0]) if pred_flag[i] ]"
   ]
  },
  {
   "cell_type": "code",
   "execution_count": 150,
   "metadata": {
    "collapsed": true
   },
   "outputs": [],
   "source": [
    "# Validation\n",
    "tolerence = .5\n",
    "error_item_based   = test.rating.iloc[pred_has_pred] - pred_correlation[np.ix_(pred_has_pred)]\n",
    "correct = np.array(error_item_based.loc[abs(error_item_based)<tolerence])\n",
    "\n",
    "correct_proportion = correct.shape[0]/float(test.shape[0])\n",
    "converge_item_based = 1 - (count_not_available/float(test.shape[0]))\n",
    "MAE_item_based      = error_item_based.mean()"
   ]
  },
  {
   "cell_type": "code",
   "execution_count": 151,
   "metadata": {
    "collapsed": false
   },
   "outputs": [
    {
     "name": "stdout",
     "output_type": "stream",
     "text": [
      "('Correct proportion:', 0.31175)\n",
      "('Converge:', 0.98195)\n",
      "('MAE:', 0.12491077129623541)\n"
     ]
    },
    {
     "data": {
      "image/png": "[encoded data removed]",
      "text/plain": [
       "<matplotlib.figure.Figure at 0x1081f4150>"
      ]
     },
     "metadata": {},
     "output_type": "display_data"
    }
   ],
   "source": [
    "# Visualization\n",
    "error_item_based.hist(bins=200)\n",
    "plt.xlabel(\"Prediction Error (Rating - Prediction)\")\n",
    "plt.ylabel(\"Frequency\")\n",
    "plt.title(\"Item-based CF\")\n",
    "print ('Correct proportion:', correct_proportion)\n",
    "print ('Converge:',  converge_item_based)\n",
    "print ('MAE:', MAE_item_based)"
   ]
  },
  {
   "cell_type": "markdown",
   "metadata": {},
   "source": [
    "## User-based Collaborative Filtering"
   ]
  },
  {
   "cell_type": "code",
   "execution_count": 152,
   "metadata": {
    "collapsed": true
   },
   "outputs": [],
   "source": [
    "# Load data\n",
    "train = pd.read_table('ml-100k/u2.base', header=None, names=['uid', 'mid', 'rating', 'timestamp'])\n",
    "test  = pd.read_table('ml-100k/u2.test', header=None, names=['uid', 'mid', 'rating', 'timestamp'])\n",
    "\n",
    "n_users  = int(train.describe().loc['max', 'uid'])\n",
    "n_movies = int(train.describe().loc['max', 'mid'])"
   ]
  },
  {
   "cell_type": "code",
   "execution_count": 153,
   "metadata": {
    "collapsed": true
   },
   "outputs": [],
   "source": [
    "# Transform\n",
    "Y = np.zeros( (n_movies, n_users) )\n",
    "R = Y.copy()\n",
    "for i in range(train.shape[0]):\n",
    "    Y[train.mid[i]-1][train.uid[i]-1] = train.rating[i]\n",
    "    R[train.mid[i]-1][train.uid[i]-1] = 1"
   ]
  },
  {
   "cell_type": "code",
   "execution_count": 154,
   "metadata": {
    "collapsed": false
   },
   "outputs": [],
   "source": [
    "# Allocate\n",
    "weights    = np.empty((n_users,n_users))\n",
    "diff       = np.empty((n_movies, n_users))\n",
    "std_rating = np.empty(n_users)\n",
    "\n",
    "Y_mu = Y.sum(axis=0)/R.sum(axis=0)\n",
    "item_has_rated = (R.sum(axis=1)!=0)\n",
    "user_has_rated = (R.sum(axis=0)!=0)\n",
    "R_users = np.array([1 if i in user_has_rated else 0 for i in range(n_users)])\n",
    "for i in range(n_users):\n",
    "    diff[:,i] = Y[:,i]-Y_mu[i]\n",
    "    std_rating[i] = np.power(diff[:,i],2).sum()/(R[:,i].sum())"
   ]
  },
  {
   "cell_type": "code",
   "execution_count": 155,
   "metadata": {
    "collapsed": true
   },
   "outputs": [],
   "source": [
    "# Weighting (Pearson correlation)\n",
    "R_weights = np.zeros((n_users, n_users))\n",
    "rate_avg = Y.sum()/float(R.sum())\n",
    "for i in range(n_users):\n",
    "    for j in range(n_users):\n",
    "        stdmstd = std_rating[i]*std_rating[j]\n",
    "        weights[i,j] = np.dot(R[:,i]*diff[:,i], R[:,j]*diff[:,j])/(stdmstd)\n",
    "        #weights[i,j] = np.dot(R[:,i]*(Y[:,i]-rate_avg), R[:,j]*(Y[:,j]-rate_avg))/(stdmstd) # (constrainted Pearson)\n",
    "        if stdmstd!=0:\n",
    "            R_weights[i,j] = 1"
   ]
  },
  {
   "cell_type": "code",
   "execution_count": 156,
   "metadata": {
    "collapsed": false
   },
   "outputs": [],
   "source": [
    "# Predict\n",
    "pred_correlation = np.zeros(test.shape[0])\n",
    "pred_flag        = pred_correlation.copy()\n",
    "pred_cosine      = pred_correlation.copy()\n",
    "K         = 50\n",
    "tolerence = .5\n",
    "count_not_available = 0\n",
    "for test_id in range(test.shape[0]):\n",
    "    a = test.uid[test_id]\n",
    "    i = test.mid[test_id]\n",
    "    if not user_has_rated[a] or not item_has_rated[i]:\n",
    "        count_not_available = count_not_available + 1\n",
    "        pred_flag[test_id] = 0\n",
    "    else:\n",
    "        weights_i = weights[a,:]*R_weights[a,:]\n",
    "        sort_index = np.argsort(-weights_i)\n",
    "        idx_positive_weights    = np.array(sort_index[1:K+1])\n",
    "        val_positive_weights    = weights_i[idx_positive_weights]\n",
    "        val_positive_difference = (diff[i,idx_positive_weights] * R[i,idx_positive_weights])\n",
    "        pred = Y_mu[a] + np.dot(val_positive_difference,val_positive_weights)/(val_positive_weights.sum())\n",
    "        if np.isnan(pred):\n",
    "            count_not_available = count_not_available + 1\n",
    "            pred_flag[test_id] = 0\n",
    "        else:\n",
    "            pred_correlation[test_id] = pred\n",
    "            pred_flag[test_id] = 1\n",
    "pred_has_pred = [i for i in range(test.shape[0]) if pred_flag[i]] \n",
    "# Validation\n",
    "error_user_based   = test.rating.iloc[pred_has_pred] - pred_correlation[np.ix_(pred_has_pred)]\n",
    "correct = np.array(error_user_based.loc[abs(error_user_based)<tolerence])\n",
    "\n",
    "correct_proportion = correct.shape[0]/float(test.shape[0])\n",
    "converge_user_based = 1 - (count_not_available/float(test.shape[0]))\n",
    "MAE_user_based      = error_item_based.mean()"
   ]
  },
  {
   "cell_type": "code",
   "execution_count": 157,
   "metadata": {
    "collapsed": false
   },
   "outputs": [
    {
     "name": "stdout",
     "output_type": "stream",
     "text": [
      "0.3161\n",
      "('Converge:', 0.9981)\n",
      "('MAE:', 0.12491077129623541)\n"
     ]
    },
    {
     "data": {
      "image/png": "[encoded data removed]",
      "text/plain": [
       "<matplotlib.figure.Figure at 0x10830f650>"
      ]
     },
     "metadata": {},
     "output_type": "display_data"
    }
   ],
   "source": [
    "error_user_based.hist(bins=200)\n",
    "plt.xlabel(\"Prediction Error\")\n",
    "plt.ylabel(\"Frequency\")\n",
    "plt.title(\"User-based CF\")\n",
    "print correct_proportion\n",
    "print ('Converge:',  converge_user_based)\n",
    "print ('MAE:', error_item_based.mean())"
   ]
  },
  {
   "cell_type": "code",
   "execution_count": null,
   "metadata": {
    "collapsed": true
   },
   "outputs": [],
   "source": []
  }
 ],
 "metadata": {
  "kernelspec": {
   "display_name": "Python 2",
   "language": "python",
   "name": "python2"
  },
  "language_info": {
   "codemirror_mode": {
    "name": "ipython",
    "version": 2
   },
   "file_extension": ".py",
   "mimetype": "text/x-python",
   "name": "python",
   "nbconvert_exporter": "python",
   "pygments_lexer": "ipython2",
   "version": "2.7.11"
  }
 },
 "nbformat": 4,
 "nbformat_minor": 0
}
