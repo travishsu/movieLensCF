{
 "cells": [
  {
   "cell_type": "code",
   "execution_count": 16,
   "metadata": {
    "collapsed": true
   },
   "outputs": [],
   "source": [
    "import pandas as pd\n",
    "import numpy as np"
   ]
  },
  {
   "cell_type": "code",
   "execution_count": 17,
   "metadata": {
    "collapsed": true
   },
   "outputs": [],
   "source": [
    "# Load data\n",
    "train = pd.read_table('ml-100k/u2.base', header=None, names=['uid', 'mid', 'rating', 'timestamp'])\n",
    "test  = pd.read_table('ml-100k/u2.test', header=None, names=['uid', 'mid', 'rating', 'timestamp'])\n",
    "\n",
    "n_users  = int(training.describe().loc['max', 'uid'])\n",
    "n_movies = int(training.describe().loc['max', 'mid'])"
   ]
  },
  {
   "cell_type": "code",
   "execution_count": 18,
   "metadata": {
    "collapsed": true
   },
   "outputs": [],
   "source": [
    "# Transform\n",
    "Y = np.zeros( (n_movies, n_users) )\n",
    "R = Y.copy()\n",
    "for i in range(train.shape[0]):\n",
    "    Y[train.mid[i]-1][train.uid[i]-1] = train.rating[i]\n",
    "    R[train.mid[i]-1][train.uid[i]-1] = 1"
   ]
  },
  {
   "cell_type": "markdown",
   "metadata": {},
   "source": [
    "# Item-based Collaborative Filtering"
   ]
  },
  {
   "cell_type": "code",
   "execution_count": 19,
   "metadata": {
    "collapsed": true
   },
   "outputs": [],
   "source": [
    "# Allocate\n",
    "weights    = np.empty((n_movies,n_movies))\n",
    "diff       = np.empty((n_movies, n_users))\n",
    "std_rating = np.empty(n_movies)\n",
    "\n",
    "Y_mu = Y.sum(axis=1)/R.sum(axis=1)\n",
    "for i in range(n_movies):\n",
    "    diff[i,:] = Y[i,:]-Y_mu[i]\n",
    "    std_rating[i] = np.power(diff[i,:],2).sum()/R[i,:].sum()"
   ]
  },
  {
   "cell_type": "code",
   "execution_count": 20,
   "metadata": {
    "collapsed": true
   },
   "outputs": [],
   "source": [
    "# Weighting (Pearson correlation)\n",
    "for i in range(n_movies):\n",
    "    for j in range(n_movies):\n",
    "        weights[i,j] = np.dot(R[i,:]*diff[i,:], R[j,:]*diff[j,:])/(std_rating[i]*std_rating[j])"
   ]
  },
  {
   "cell_type": "code",
   "execution_count": 21,
   "metadata": {
    "collapsed": true
   },
   "outputs": [],
   "source": [
    "# Predict\n",
    "pred_correlation = np.empty(test.shape[0])\n",
    "pred_flag        = pred_correlation.copy()\n",
    "pred_cosine      = pred_correlation.copy()\n",
    "thredhold = 0\n",
    "tolerence = 1\n",
    "for test_id in range(test.shape[0]):\n",
    "    a = test.uid[test_id]\n",
    "    i = test.mid[test_id]\n",
    "\n",
    "    idx_positive_weights    = np.array([j for j in range(weights.shape[0]) if weights[i,j]>thredhold])\n",
    "    val_positive_weights    = weights[np.ix_([i],idx_positive_weights)][0]\n",
    "    val_positive_difference = (diff[np.ix_(idx_positive_weights,[a])].T)[0] * (R[np.ix_(idx_positive_weights,[a])].T)[0]\n",
    "    pred_correlation[test_id] = Y_mu[i] + np.dot(val_positive_difference,val_positive_weights)/(val_positive_weights.sum())\n",
    "\n",
    "    pred_flag[test_id] = 1\n",
    "pred_has_pred = [i for i in range(test.shape[0]) if pred_flag[i]]"
   ]
  },
  {
   "cell_type": "code",
   "execution_count": 22,
   "metadata": {
    "collapsed": true
   },
   "outputs": [],
   "source": [
    "# Validation\n",
    "error   = test.rating.iloc[pred_has_pred] - pred_correlation[np.ix_(pred_has_pred)]\n",
    "correct = np.array([error[i] for i in range(test.shape[0]) if np.abs(error[i])<tolerence])\n",
    "correct_proportion = correct.shape[0]/float(test.shape[0])"
   ]
  },
  {
   "cell_type": "code",
   "execution_count": 23,
   "metadata": {
    "collapsed": false
   },
   "outputs": [
    {
     "name": "stdout",
     "output_type": "stream",
     "text": [
      "Populating the interactive namespace from numpy and matplotlib\n",
      "0.56645\n"
     ]
    },
    {
     "name": "stderr",
     "output_type": "stream",
     "text": [
      "WARNING: pylab import has clobbered these variables: ['diff', 'test']\n",
      "`%matplotlib` prevents importing * from pylab and numpy\n"
     ]
    },
    {
     "data": {
      "image/png": "[encoded data removed]",
      "text/plain": [
       "<matplotlib.figure.Figure at 0x111dd8690>"
      ]
     },
     "metadata": {},
     "output_type": "display_data"
    }
   ],
   "source": [
    "# Visualization\n",
    "%pylab inline\n",
    "error.hist(bins=200)\n",
    "plt.xlabel(\"Prediction Error (Rating - Prediction)\")\n",
    "plt.ylabel(\"Frequency\")\n",
    "plt.title(\"Item-based CF\")\n",
    "print correct_proportion"
   ]
  },
  {
   "cell_type": "markdown",
   "metadata": {},
   "source": [
    "# User-based Collaborative Filtering"
   ]
  },
  {
   "cell_type": "code",
   "execution_count": 25,
   "metadata": {
    "collapsed": false
   },
   "outputs": [
    {
     "name": "stdout",
     "output_type": "stream",
     "text": [
      "0.58415\n"
     ]
    },
    {
     "data": {
      "image/png": "[encoded data removed]",
      "text/plain": [
       "<matplotlib.figure.Figure at 0x10b5b70d0>"
      ]
     },
     "metadata": {},
     "output_type": "display_data"
    }
   ],
   "source": [
    "test  = pd.read_table('ml-100k/u2.test', header=None, names=['uid', 'mid', 'rating', 'timestamp'])\n",
    "\n",
    "Y_mu = Y.sum(axis=0)/R.sum(axis=0)\n",
    "\n",
    "# Allocate\n",
    "weights    = np.empty((n_users,n_users))\n",
    "diff       = np.empty((n_movies, n_users))\n",
    "std_rating = np.empty(n_users)\n",
    "\n",
    "for i in range(n_users):\n",
    "    diff[:,i] = Y[:,i]-Y_mu[i]\n",
    "    std_rating[i] = np.power(diff[:,i],2).sum()/R[:,i].sum()\n",
    "\n",
    "# Weighting (Pearson correlation)\n",
    "for i in range(n_users):\n",
    "    for j in range(n_users):\n",
    "        weights[i,j] = np.dot(R[:,i]*diff[:,i], R[:,j]*diff[:,j])/(std_rating[i]*std_rating[j])\n",
    "\n",
    "# Predict\n",
    "pred_correlation = np.zeros(test.shape[0])\n",
    "pred_flag        = pred_correlation.copy()\n",
    "pred_cosine      = pred_correlation.copy()\n",
    "thredhold = 0\n",
    "tolerence = 1\n",
    "\n",
    "movie_avg_rating = Y.sum(axis=1)/R.sum(axis=1)\n",
    "for test_id in range(test.shape[0]):\n",
    "    a = test.uid[test_id]\n",
    "    i = test.mid[test_id]\n",
    "\n",
    "    if i < Y.shape[1]:\n",
    "        idx_positive_weights    = np.array([j for j in range(weights.shape[0]) if weights[j,a]>thredhold])\n",
    "        val_positive_weights    = (weights[np.ix_(idx_positive_weights,[a])].T)[0]\n",
    "        val_positive_difference = (diff[np.ix_([i],idx_positive_weights)])[0] * (R[np.ix_([i],idx_positive_weights)])[0]\n",
    "        pred_correlation[test_id] = Y_mu[i] + np.dot(val_positive_difference,val_positive_weights)/(val_positive_weights.sum())\n",
    "    else:\n",
    "        pred_correlation[test_id] = movie_avg_rating[i]\n",
    "# Validation\n",
    "error   = test.rating - pred_correlation\n",
    "correct = np.array([error[i] for i in range(error.shape[0]) if np.abs(error[i])<tolerence])\n",
    "correct_proportion = correct.shape[0]/float(test.shape[0])\n",
    "\n",
    "error.hist(bins=200)\n",
    "plt.xlabel(\"Prediction Error\")\n",
    "plt.ylabel(\"Frequency\")\n",
    "plt.title(\"User-based CF\")\n",
    "print correct_proportion\n"
   ]
  },
  {
   "cell_type": "code",
   "execution_count": null,
   "metadata": {
    "collapsed": true
   },
   "outputs": [],
   "source": []
  },
  {
   "cell_type": "code",
   "execution_count": null,
   "metadata": {
    "collapsed": true
   },
   "outputs": [],
   "source": []
  }
 ],
 "metadata": {
  "kernelspec": {
   "display_name": "Python 2",
   "language": "python",
   "name": "python2"
  },
  "language_info": {
   "codemirror_mode": {
    "name": "ipython",
    "version": 2
   },
   "file_extension": ".py",
   "mimetype": "text/x-python",
   "name": "python",
   "nbconvert_exporter": "python",
   "pygments_lexer": "ipython2",
   "version": "2.7.11"
  }
 },
 "nbformat": 4,
 "nbformat_minor": 0
}
